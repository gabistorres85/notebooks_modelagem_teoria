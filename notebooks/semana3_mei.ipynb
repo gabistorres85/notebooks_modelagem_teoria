{
  "nbformat": 4,
  "nbformat_minor": 0,
  "metadata": {
    "colab": {
      "provenance": []
    },
    "kernelspec": {
      "name": "python3",
      "display_name": "Python 3"
    },
    "language_info": {
      "name": "python"
    }
  },
  "cells": [
    {
      "cell_type": "markdown",
      "source": [
        "# Semana 3 - Teste de Hipótese e Previsão de Resposta\n",
        "\n",
        "**Hipótese Nula H<sub>0</sub>**: Assumir β<sub>1</sub> = 0 -> denominado de β<sub>10</sub>\n",
        "\n",
        "**Valor Estatística do Teste**:\n",
        "$$\n",
        "\\boxed{\\displaystyle t=\\frac{\\widehat{\\beta}_1-\\beta_{10}}{s_{\\widehat{\\beta}_1}}}\n",
        "$$\n",
        "**Teste de Utilidade**: realizado testes com $\\beta_1 = 0$ e $\\beta_1 \\not = 0$\n",
        "> Quando $\\beta_1 = 0$ for verdadeiro, a variável Y independe de X, portanto o modelo de regressão linear não é aplicável\n",
        ">\n",
        "> Quando $\\beta_1 = 0$ for falso, n é suficientemente grande, calcular r² para identificar se o modelo de regressão linear explica a relação das variáveis aleatórias investigadas.\n",
        "\n",
        "**Estatística de Teste:** Assume uma distribuição do tipo t de Student, com graus de liberdade = $n-2$\n",
        "$$\n",
        "\\boxed{t = \\frac{\\beta_1}{S_{\\beta_1}}}\n",
        "$$\n",
        "Sendo que:\n",
        "\n",
        "HIPOTESE ALTERNATIVA|DETERMINAÇÃO DO VALOR DE P|\n",
        "--------------------|--------------------------\n",
        "$H_\\alpha:\\beta_1>\\beta_{10}$|Área sob a curva $t_{n-2}$ à direita de t\n",
        "$H_\\alpha:\\beta_1<\\beta_{10}$|Área sob a curva $t_{n-2}$ à esquerda de t\n",
        "$H_\\alpha:\\beta_1\\not =\\beta_{10}$|2.(Área soba a curtva $t_{n-2}$ à direita de $\\vert t \\vert$\n",
        "\n",
        "## Mas quem é p?\n",
        "\n",
        "O valor de p é a probabilidade de observar um valor tão extremo quanto obtido, assumindo $H_0$ como verdadeira. Dado que assumimos esse valor como $\\beta_1 = 0$, indicando que a variável y é independente de X.\n",
        "Quando p assume um valor proximo de 1, há uma possibilidade maior de ocorrer tal evento, logo podemos inferir que y independe de x.\n",
        "Quando p assume um valor bem proximo de 0, entendemos que a probabilidade de apresentar um vaor tão extremo é quase 0, reforçando a dependência de y por x.\n"
      ],
      "metadata": {
        "id": "6ZuWiCcv-Ph3"
      }
    },
    {
      "cell_type": "markdown",
      "source": [
        "1. Exercício: estudo de scooters\n",
        "\n",
        "x = velocidade de teste de circuito (km/h)\n",
        "\n",
        "y = velocidade do teste de rolamento\n",
        "\n",
        "\n",
        "x = [\n",
        "    42.2, 42.6, 43.3, 43.5, 43.7, 44.1, 44.9, 45.3, 45.7,\n",
        "    45.7, 45.9, 46.0, 46.2, 46.2, 46.8, 46.8, 47.1, 47.2\n",
        "]\n",
        "\n",
        "y = [\n",
        "    44, 44, 44, 45, 45, 46, 46, 46, 47,\n",
        "    48, 48, 48, 47, 48, 48, 49, 49, 49\n",
        "]"
      ],
      "metadata": {
        "id": "WHkAd7c18JJk"
      }
    },
    {
      "cell_type": "code",
      "source": [
        "#importando as bibliotecas\n",
        "import pandas as pd\n",
        "import numpy as np\n",
        "import matplotlib.pyplot as plt\n",
        "from scipy.stats import t\n",
        "import seaborn as sns\n",
        "import math"
      ],
      "metadata": {
        "id": "T3HWcQp_8FOw"
      },
      "execution_count": 2,
      "outputs": []
    },
    {
      "cell_type": "code",
      "source": [
        "x = [42.2, 42.6, 43.3, 43.5, 43.7, 44.1, 44.9, 45.3, 45.7, 45.7, 45.9, 46.0, 46.2, 46.2, 46.8, 46.8, 47.1, 47.2]\n",
        "y = [44, 44, 44, 45, 45, 46, 46, 46, 47,48, 48, 48, 47, 48, 48, 49, 49, 49]\n",
        "\n",
        "x = np.array(x)\n",
        "y = np.array(y)\n",
        "\n",
        "dfScooter = pd.DataFrame({'Circuito':x,\n",
        "                          'Rolamento':y})\n",
        "print(dfScooter)"
      ],
      "metadata": {
        "colab": {
          "base_uri": "https://localhost:8080/"
        },
        "id": "rFWNabvG9MRt",
        "outputId": "9979fb94-af77-4960-f6a0-08b437591f5d"
      },
      "execution_count": 3,
      "outputs": [
        {
          "output_type": "stream",
          "name": "stdout",
          "text": [
            "    Circuito  Rolamento\n",
            "0       42.2         44\n",
            "1       42.6         44\n",
            "2       43.3         44\n",
            "3       43.5         45\n",
            "4       43.7         45\n",
            "5       44.1         46\n",
            "6       44.9         46\n",
            "7       45.3         46\n",
            "8       45.7         47\n",
            "9       45.7         48\n",
            "10      45.9         48\n",
            "11      46.0         48\n",
            "12      46.2         47\n",
            "13      46.2         48\n",
            "14      46.8         48\n",
            "15      46.8         49\n",
            "16      47.1         49\n",
            "17      47.2         49\n"
          ]
        }
      ]
    },
    {
      "cell_type": "code",
      "source": [
        "#plotando o gráfico de dispersão - uso de seaborn\n",
        "sns.set_style(\"darkgrid\",{\"axes.facecolor\": \"#696969\"})\n",
        "sns.set_palette(\"flare\",4)\n",
        "sns.set_context(\"paper\")\n",
        "sns.scatterplot(data=dfScooter,x=x,y=y,s=80)\n",
        "\n",
        "plt.title('Relação velocidade do circuito x velocidade de dispersão')\n",
        "plt.xlabel('velocidade do circuito',fontsize=8)\n",
        "plt.ylabel('velocidade de rolamento',fontsize=8)\n",
        "\n",
        "plt.tight_layout()"
      ],
      "metadata": {
        "colab": {
          "base_uri": "https://localhost:8080/",
          "height": 488
        },
        "id": "6sr2lglI-T1-",
        "outputId": "3f114285-8917-4a11-8edd-459d15d0c65c"
      },
      "execution_count": 4,
      "outputs": [
        {
          "output_type": "display_data",
          "data": {
            "text/plain": [
              "<Figure size 640x480 with 1 Axes>"
            ],
            "image/png": "[encoded data removed]"
          },
          "metadata": {}
        }
      ]
    },
    {
      "cell_type": "code",
      "source": [
        "#calculando r²\n",
        "n=len(x)\n",
        "somax = np.sum(x)\n",
        "somay=np.sum(y)\n",
        "somaxx=np.sum(x**2)\n",
        "somayy=np.sum(y**2)\n",
        "somaxy=sum(x*y)\n",
        "sxx= somaxx-somax**2/n\n",
        "sxy=somaxy-somax*somay/n\n",
        "syy=somayy-somay**2/n\n",
        "beta1 = sxy/sxx\n",
        "beta0 = np.average(y)-beta1*np.average(x)\n",
        "sqe = syy-beta1*sxy\n",
        "r2= 1- sqe/syy\n",
        "\n",
        "\n",
        "print(r2,sqe, beta1)"
      ],
      "metadata": {
        "colab": {
          "base_uri": "https://localhost:8080/"
        },
        "id": "3VphDv5_H5jo",
        "outputId": "0aee181d-93a9-44ef-f88c-0d4579d88972"
      },
      "execution_count": 5,
      "outputs": [
        {
          "output_type": "stream",
          "name": "stdout",
          "text": [
            "0.9233180826203335 4.111002792854215 1.0834167676661584\n"
          ]
        }
      ]
    },
    {
      "cell_type": "code",
      "source": [
        "#Teste de utitilidade do modelo no nível de significancia α = 0.001\n",
        "#calcular a variancia da estimativa de beta 1\n",
        "import math\n",
        "\n",
        "#para calcular a variância do estimador de beta 1 primeiro, devemos calcular a variancia do erro\n",
        "\n",
        "varErro = sqe/(n-2)\n",
        "dpErro = math.sqrt(varErro)\n",
        "dpBeta1 = dpErro/math.sqrt(sxx)\n",
        "\n",
        "#calculando o t\n",
        "\n",
        "t_obtido= beta1/dpBeta1\n",
        "\n",
        "\n",
        "print(f' variancia de beta  ={dpBeta1}\\n valor de t={t_obtido}  ')\n"
      ],
      "metadata": {
        "colab": {
          "base_uri": "https://localhost:8080/"
        },
        "id": "jSJFxLrfM3lc",
        "outputId": "09927680-2cfc-412b-870c-f8694d5128b0"
      },
      "execution_count": 6,
      "outputs": [
        {
          "output_type": "stream",
          "name": "stdout",
          "text": [
            " variancia de beta  =0.07805601450282426\n",
            " valor de t=13.879990857424032  \n"
          ]
        }
      ]
    },
    {
      "cell_type": "code",
      "source": [
        "# calculando agora o valor de p p = 2.area à direita de t\n",
        "#área a direita de t\n",
        "gl=n-2\n",
        "p_direita = t.sf(t_obtido,gl)\n",
        "valorp = 2*p_direita\n",
        "\n",
        "print(f'Valor de P = {round(valorp)}, portanto há confirmação de utilidade do modelo de regressão linear simples.' )"
      ],
      "metadata": {
        "id": "cUe86lWwN3i5",
        "colab": {
          "base_uri": "https://localhost:8080/"
        },
        "outputId": "4153db02-dc17-4ef3-fab4-4e3e9716d595"
      },
      "execution_count": 7,
      "outputs": [
        {
          "output_type": "stream",
          "name": "stdout",
          "text": [
            "Valor de P = 0, portanto há confirmação de utilidade do modelo de regressão linear simples.\n"
          ]
        }
      ]
    },
    {
      "cell_type": "markdown",
      "source": [
        "# Tabela ANOVA\n",
        "\n",
        "ANOVA, no contexto da regressão linear, é uma tabela que, a partir da relação entre os “acertos” do modelo (variação explicada pela regressão – SQR) e os “erros” do modelo (variação residual – SQE), avalia se a proporção de variação explicada é suficientemente grande para concluir que existe uma relação linear significativa entre as variáveis. Essa comparação é feita por meio do teste F.\n",
        "\n",
        "$$\\boxed{F = t²}$$\n"
      ],
      "metadata": {
        "id": "8ZY3OL-3dq6n"
      }
    },
    {
      "cell_type": "markdown",
      "source": [
        "## Inferências sobre $\\mu_{y,x*}$ e a previsão de Y futuros\n",
        "\n",
        "### Proposição\n",
        "\n",
        "Seja $\\hat{Y}=\\hat{\\beta_0}+\\hat{\\beta_1}x*$, em que x* é um valor fixo de x. Então:\n",
        "1. O valor médio de $\\hat{Y}$ é:\n",
        "$$\n",
        "\\boxed{E(\\hat{y}) = E(\\hat{\\beta_0}+\\hat{\\beta_1}x*)= \\mu_{\\hat{\\beta_0}+\\hat{\\beta_1}} = {\\beta_0}+{\\beta_1}x*}\n",
        "$$\n",
        "onde $\\alpha^2$ equivale a variancia dos erro\n",
        "\n",
        "2. A variância de $\\hat{Y}$ é:\n",
        "$$\n",
        "\\boxed{\n",
        "  V(\\hat{Y})=\\sigma^2_{\\hat{Y}}=\\sigma^2\\Big[\\frac{1}{n} + \\frac{(x*-\\overline{x})^2}{S_xx}\\Big]}\n",
        "  $$\n",
        ">Estamos falando de quanto o próprio processo de estimar\n",
        "$\\beta_0$ e $\\beta_1$ faz com que as previsões variem de amostra para amostra.\n",
        "> $\\boxed{\\sigma^2 = \\frac{sqe}{n-2}}$\n",
        "\n",
        "\n",
        "3. Desvio Padrão estimado de $\\hat{\\beta_0}+\\hat{\\beta_1}x*$, representado por $s_{\\hat{y}}$ ou $s_{\\hat{\\beta_0}+\\hat{\\beta_1}x*}$, resulta da substituição da variância pela sua estimativa:\n",
        "$$\n",
        "  \\boxed{\n",
        "s_{\\hat{y}} = s_{\\hat{\\beta_0} + \\hat{\\beta_1}x^*}\n",
        "= s \\sqrt{ \\frac{1}{n} + \\frac{(x^* - \\overline{x})^2}{S_{xx}} }}\n",
        "$$\n",
        "3. $\\hat{Y}$ tem uma distribuição normal.\n",
        "\n",
        "\n",
        "O estimador de $\\mu_{Y,x^*}$ é mais preciso quando $x^*$ está próximo ao centro de $x_1$ $\\therefore$ IC e IP são mais estreitos para $x^*$ próximo a $\\overline{x}$.\n",
        "\n",
        "### Inferências sobre $\\mu_{Yxx^*}$\n",
        "\n",
        "$$\n",
        "\\boxed{\n",
        "T = \\frac{\\hat{\\beta_0} + \\hat{\\beta_1}x^* - (\\beta_0 + \\beta_1 x^*)}\n",
        "     {s_{\\hat{\\beta_0} + \\hat{\\beta_1}x^*}}\n",
        "= \\frac{\\hat{Y} - (\\beta_0 + \\beta_1 x^*)}\n",
        "       {s_{\\hat{y}}}}\n",
        "$$\n",
        "\n",
        "### Intervalo de Confiança IC\n",
        "\n",
        "IC de 100 $(1-\\alpha)\\%$ para $\\mu_{Y.x^*}$, o valor esperado de Y quando $x=x^*$, é:\n",
        "$$\n",
        "\\boxed{\n",
        "  \\hat{\\beta_0\n",
        "  } + \\hat{\\beta_1}x^* \\mp\n",
        "  t_{\\alpha/2,n-2}\\cdot s_{\\beta_0 + \\beta_1 x^*} =\n",
        "  \\hat{y} \\mp t_{\\alpha/2,n-2}}\n",
        "$$\n",
        "\n",
        "> Intervalos de Confiança estreitos denotam que dispomos de informações razoavelmente precisas. Haverá mudanças do intervalo de acordo com o valor de x adotado, quanto mais próximo a média mais estreito ele será .\n"
      ],
      "metadata": {
        "id": "698WhblMtZI8"
      }
    },
    {
      "cell_type": "markdown",
      "source": [],
      "metadata": {
        "id": "J4NqZqKVUyl9"
      }
    },
    {
      "cell_type": "markdown",
      "source": [
        "2. Exercício 2\n",
        "\n",
        "Estudo de carbonatação para identificar danos em estrutura de concreto.\n",
        "\n",
        "> x= profundidade de carbonatação em mm\n",
        ">\n",
        "> y= resitência (MPa)de uma amostra de concreto"
      ],
      "metadata": {
        "id": "p-rR7N6B889y"
      }
    },
    {
      "cell_type": "code",
      "source": [
        "# Dados fornecidos\n",
        "x = [8.0, 15.0, 16.5, 20.0, 20.0, 27.5, 30.0, 30.0, 35.0,38.0, 40.0, 45.0, 50.0, 50.0, 55.0, 55.0, 59.0, 65.0]\n",
        "\n",
        "y = [22.8, 27.2, 23.7, 17.1, 21.5, 18.6, 16.1, 23.4, 13.4,19.5, 12.4, 13.2, 11.4, 10.3, 14.1, 9.7, 12.0, 6.8]\n",
        "\n",
        "x= np.array(x)\n",
        "y = np.array(y)\n",
        "\n",
        "df_concreto = pd.DataFrame({'Carbonatação':x,\n",
        "                            'Resistência':y})\n",
        "print(df_concreto)"
      ],
      "metadata": {
        "colab": {
          "base_uri": "https://localhost:8080/"
        },
        "id": "1yz90lpGV6nZ",
        "outputId": "e2932b8e-2d79-4606-8490-aa70c6ea503f"
      },
      "execution_count": 8,
      "outputs": [
        {
          "output_type": "stream",
          "name": "stdout",
          "text": [
            "    Carbonatação  Resistência\n",
            "0            8.0         22.8\n",
            "1           15.0         27.2\n",
            "2           16.5         23.7\n",
            "3           20.0         17.1\n",
            "4           20.0         21.5\n",
            "5           27.5         18.6\n",
            "6           30.0         16.1\n",
            "7           30.0         23.4\n",
            "8           35.0         13.4\n",
            "9           38.0         19.5\n",
            "10          40.0         12.4\n",
            "11          45.0         13.2\n",
            "12          50.0         11.4\n",
            "13          50.0         10.3\n",
            "14          55.0         14.1\n",
            "15          55.0          9.7\n",
            "16          59.0         12.0\n",
            "17          65.0          6.8\n"
          ]
        }
      ]
    },
    {
      "cell_type": "code",
      "source": [
        "# Plot do gráfico\n",
        "sns.set_style(\"darkgrid\",{\"axes.facecolor\": \"#696969\"})\n",
        "sns.set_palette(\"flare\",4)\n",
        "sns.set_context(\"paper\")\n",
        "sns.scatterplot(data=dfScooter,x=x,y=y,s=80)\n",
        "\n",
        "plt.title('Relação profundidade de carbonatação x resistência do concreto', fontsize=14)\n",
        "plt.xlabel('Profundidade Carbonatação',fontsize=8)\n",
        "plt.ylabel('Resistência do Concreto',fontsize=8)\n",
        "\n",
        "plt.tight_layout()\n"
      ],
      "metadata": {
        "colab": {
          "base_uri": "https://localhost:8080/",
          "height": 488
        },
        "id": "Ef1GMCbKXDQz",
        "outputId": "ad6a855a-0151-4d06-98d3-2101cd8ea1ba"
      },
      "execution_count": 9,
      "outputs": [
        {
          "output_type": "display_data",
          "data": {
            "text/plain": [
              "<Figure size 640x480 with 1 Axes>"
            ],
            "image/png": "[encoded data removed]"
          },
          "metadata": {}
        }
      ]
    },
    {
      "cell_type": "code",
      "source": [
        "#Primeiras relações\n",
        "n = len(x)\n",
        "gl=n-2\n",
        "somax = np.sum(x)\n",
        "somaxx = np.sum(x**2)\n",
        "somay = np.sum(y)\n",
        "somayy = np.sum(y**2)\n",
        "somaxy = np.sum(x*y)\n",
        "Sxx = somaxx - somax**2/n\n",
        "Sxy = somaxy - somax*somay/n\n",
        "Syy = somayy - somay**2/n\n",
        "beta1 = Sxy/Sxx\n",
        "beta0 = np.average(y) - np.average(x)*beta1\n",
        "\n",
        "\n",
        "print(f'Reta dos quadrados mínimos: Y = {beta0} + {beta1}')\n",
        "print(f'n = {n}\\nsomaX = {somax}\\nsomaXX = {somaxx}\\nsomaY= {somay}')\n",
        "print(f'SomaYY = {somayy}\\nsomaXY = {somaxy}\\nSxx = {Sxx}\\nSyy = {Syy}\\nSxy = {Sxy}\\nbeta1 = {beta1}\\nbeta0 = {beta0}')"
      ],
      "metadata": {
        "colab": {
          "base_uri": "https://localhost:8080/"
        },
        "id": "1f1E69WUXrpX",
        "outputId": "9edc9127-a59f-4a72-b527-f67cd4523890"
      },
      "execution_count": 10,
      "outputs": [
        {
          "output_type": "stream",
          "name": "stdout",
          "text": [
            "Reta dos quadrados mínimos: Y = 27.18293605251681 + -0.29756122753460174\n",
            "n = 18\n",
            "somaX = 659.0\n",
            "somaXX = 28967.5\n",
            "somaY= 293.2\n",
            "SomaYY = 5335.76\n",
            "somaXY = 9293.95\n",
            "Sxx = 4840.777777777777\n",
            "Syy = 559.8577777777782\n",
            "Sxy = -1440.427777777777\n",
            "beta1 = -0.29756122753460174\n",
            "beta0 = 27.18293605251681\n"
          ]
        }
      ]
    },
    {
      "cell_type": "code",
      "source": [],
      "metadata": {
        "id": "3c6NT45tNgb5"
      },
      "execution_count": 10,
      "outputs": []
    },
    {
      "cell_type": "code",
      "source": [
        "# Calculando o IC de 95% quand x = 45\n",
        "alpha = 0.05\n",
        "X=45\n",
        "#determinar o valor esperado y para x = 45\n",
        "Y = beta0 + beta1*X\n",
        "\n",
        "print(f'Valor esperado para y = {Y}')\n",
        "\n",
        "#Calculando SQE\n",
        "\n",
        "sqe = Syy - beta1*Sxy\n",
        "\n",
        "# Calculando a viriancia do estimador de y\n",
        "\n",
        "varErros = sqe/(n-2)\n",
        "dpErros = math.sqrt(varErros)\n",
        "print(dpErros)\n",
        "mediax = np.average(x)\n",
        "\n",
        "print(mediax)\n",
        "varY = varErros*(1/n + ((X-mediax)**2)/Sxx)\n",
        "dpY = math.sqrt(varY)\n",
        "print(varY,dpY)\n",
        "\n",
        "#calcular o t crítico, para buscar a probabilidade da tabela de T de student\n",
        "t_critico = t.ppf(1-alpha/2,(n-2))\n",
        "print(t_critico)\n",
        "\n",
        "#definindo o intervalo de confiança\n",
        "maiorY = Y+(t_critico*dpY)\n",
        "menorY = Y-(t_critico*dpY)\n",
        "\n",
        "print(f'o Intervalo de confiança para x = 45 é entre {menorY} - {maiorY}')"
      ],
      "metadata": {
        "colab": {
          "base_uri": "https://localhost:8080/"
        },
        "id": "E4g716L5KKXh",
        "outputId": "42d077ba-caad-4163-8652-4b4d2d36f5e5"
      },
      "execution_count": 14,
      "outputs": [
        {
          "output_type": "stream",
          "name": "stdout",
          "text": [
            "Valor esperado para y = 13.79268081345973\n",
            "2.8640260129676323\n",
            "36.611111111111114\n",
            "0.57494955305104 0.7582542799424478\n",
            "2.1199052992210112\n",
            "o Intervalo de confiança para x = 45 é entre 12.185253547252724 - 15.400108079666737\n"
          ]
        }
      ]
    },
    {
      "cell_type": "code",
      "source": [
        "# Calculando o IC para x = 35\n",
        "X2 = 35\n",
        "Y2 = beta0 + beta1 * X2\n",
        "varY2= varErros*(1/n+(X2-mediax)**2/Sxx)\n",
        "dpY2 = math.sqrt(varY2)\n",
        "\n",
        "t2_critico = t.ppf(1-alpha/2, n-2)\n",
        "\n",
        "maiorY2 = Y2+ t2_critico*dpY2\n",
        "menorY2 = Y2 - t2_critico*dpY2\n",
        "\n",
        "print(f'o Intervalo de confiança para x = 35 é entre {menorY2} - {maiorY2}')"
      ],
      "metadata": {
        "id": "1w2BJMekI52J",
        "colab": {
          "base_uri": "https://localhost:8080/"
        },
        "outputId": "8216036d-55e2-4c99-90a2-6d46806fc2aa"
      },
      "execution_count": 19,
      "outputs": [
        {
          "output_type": "stream",
          "name": "stdout",
          "text": [
            "o Intervalo de confiança para x = 35 é entre 15.33034576054373 - 18.206240417067768\n"
          ]
        }
      ]
    },
    {
      "cell_type": "markdown",
      "source": [
        "## Intervalo de confiança entre duas variáveis\n",
        "\n",
        "Nesse caso o IC no par de intervalos resultantes é de $100(1-2\\alpha)\\%$ isso porque não se trata de duas variáveis independetes, uma vez que todo valor de x dependerá de $\\beta_0, \\beta_1 e S$\n",
        "\n",
        "Para esses conjuntos de $k$ valores de x é usado **desigualdade de Bonferroni**\n",
        "$$\n",
        "\\boxed{\n",
        "IC garantido em ser pelo menos 100(1-k\\alpha)\\%\n",
        "}$$\n",
        "\n"
      ],
      "metadata": {
        "id": "yF2BKfwFXHf-"
      }
    },
    {
      "cell_type": "markdown",
      "source": [
        "## Intervalo de previsão para um valor futuro de $Y$\n",
        "\n",
        "> Intervalo de previsão é um intervalo de valores possíveis para Y, assemelha-se a ideia do Intervalo de Confiança, mas dialoga com valores ainda não observados na amostra analisada. Nesse caso o $Y$ não é um parâmetro e sim uma variável aleatória.\n",
        "\n",
        "A incerteza da previsão é maior que na estimativa, dessa forma o IP será sempre maior que o IC.\n",
        "\n",
        "### VARIÂNCIA DO ERRO DE PREVISÃO\n",
        "$$\n",
        "\\boxed{V[Y-(\\hat{\\beta_1}+\\hat{\\beta_1}*x)]\\\\ =\n",
        "V(Y)+V(\\hat{\\beta_0}+\\hat{\\beta_1}*x)\\\\=\n",
        "\\sigma^2 +\\sigma^2[\\frac{1}{n}+\\frac{(x^*-\\overline{x})^2}{S+{xx}}]\\\\=\n",
        "\\sigma^2[1+\\frac{1}{n}+\\frac{(x^*-\\overline{x})^2}{S_{xx}}]\n",
        "}$$\n",
        "\n",
        "### ENCONTRANDO VALORES LIMITES DE UM INTERVALO DE PREVISÃO\n",
        "\n",
        "1. ENCONTRAR O T\n",
        "\n",
        "$$\n",
        "\\boxed{\n",
        "T = \\frac{Y - (\\hat{\\beta}_0 + \\hat{\\beta}_1 x^*)}\n",
        "{s \\cdot \\sqrt{1 + \\frac{1}{n} + \\frac{(x^* - \\overline{x})^2}{S_{xx}}}}\n",
        "}\n",
        "$$\n",
        "\n",
        "2. SUBSTITUIR O T NA DESIGUALDADE\n",
        " Um IP de 100$(1-\\alpha)\\%$/:\n",
        "\n",
        "$$\n",
        "\\boxed{\n",
        "  \\hat{\\beta_0} + \\hat{\\beta_1} x^*\n",
        "  \\mp t_{\\alpha/2,n-2}. s\\sqrt{1 + \\frac{1}{n}+ \\frac{(x^*- \\overline{x}^2)}{S_{xx}} }\\\\\n",
        "    =\\hat{\\beta_0} + \\hat{\\beta_1} x^* ∓ t_{\\alpha/2,n-2}.\\sqrt{s^2+s^2_{\\hat{\\beta_0}+\\hat{\\beta_1}x^*}}\\\\\n",
        "    = \\hat{y} \\mp t_{\\alpha / 2, (n-2)}.\\sqrt{s^2-S_{\\hat{Y}}^2}\n",
        "  }\n",
        "$$\n",
        "\n",
        "> Quando o $n→ ∞$, oa larguda do IC tende a 0, o mesmo não ocorre em relação ao IP, pois ainda que n maiores apriomore a asservitividade da previsão, ainda assim mantemos a incerteza da previsão.\n",
        "\n",
        "> Ao aplicar a técnica de Bonferroni, se um IP de 100 $(1-\\alpha)\\%$ para k diferentes valores de x, o intervalo de precisão será pelo menos 100 $(1-k\\alpha)\\%$\n"
      ],
      "metadata": {
        "id": "INfT7sV9ZBMD"
      }
    },
    {
      "cell_type": "code",
      "source": [
        "## Calculando o Intervalo de Previsão de 95% em cima dos dados do carbonatação-resistência.\n",
        "# Resgatando dados\n",
        "print(f'valor esperado Y(45) {Y}\\n t= {t_critico:.3f}\\n s = {dpErros}\\n sᵧ = {dpY}')"
      ],
      "metadata": {
        "colab": {
          "base_uri": "https://localhost:8080/"
        },
        "id": "CEALa4_bXHGu",
        "outputId": "2857c0be-de01-414d-c653-870a772b022e"
      },
      "execution_count": 25,
      "outputs": [
        {
          "output_type": "stream",
          "name": "stdout",
          "text": [
            "valor esperado Y(45) 13.79268081345973\n",
            " t= 2.120\n",
            " s = 2.8640260129676323\n",
            " sᵧ = 0.7582542799424478\n"
          ]
        }
      ]
    },
    {
      "cell_type": "code",
      "source": [
        "#substituindo os dados\n",
        "IPmaior = Y+t_critico*(math.sqrt((dpErros**2)+(dpY**2)))\n",
        "IPmenor = Y-t_critico*(math.sqrt((dpErros**2)+(dpY**2)))\n",
        "print(f'IP = ({IPmenor:.3f},{IPmaior:.3f})')"
      ],
      "metadata": {
        "colab": {
          "base_uri": "https://localhost:8080/"
        },
        "id": "S87aLeHpqogk",
        "outputId": "1bb3af80-27e8-42d5-9cf5-20451d1f708f"
      },
      "execution_count": 40,
      "outputs": [
        {
          "output_type": "stream",
          "name": "stdout",
          "text": [
            "IP = (7.512,20.073)\n"
          ]
        }
      ]
    },
    {
      "cell_type": "code",
      "source": [],
      "metadata": {
        "id": "BAZj4GosR2np"
      },
      "execution_count": null,
      "outputs": []
    }
  ]
}